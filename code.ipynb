{
 "cells": [
  {
   "cell_type": "code",
   "execution_count": 2,
   "metadata": {},
   "outputs": [],
   "source": [
    "import numpy as np\n",
    "from skimage import io\n",
    "import matplotlib.pyplot as plt\n",
    "import skimage.color as color\n",
    "from scipy.linalg import lstsq\n",
    "import os\n"
   ]
  },
  {
   "cell_type": "code",
   "execution_count": 3,
   "metadata": {},
   "outputs": [],
   "source": [
    "Z_raw = []\n",
    "for i in range(1, 17):\n",
    "    path = os.path.join('data/door_stack', 'exposure{}.tiff'.format(i))\n",
    "    img = io.imread(path)\n",
    "    Z_raw.append(img.flatten())\n",
    "Z_raw = np.array(Z_raw).T \n",
    "\n",
    "Z = []\n",
    "for i in range(1, 17):\n",
    "    path = os.path.join('data/door_stack', 'exposure{}.jpg'.format(i))\n",
    "    img = io.imread(path)\n",
    "    img_d = img[::200,::200,:]\n",
    "    Z.append(img_d.flatten())\n",
    "\n",
    "Z = np.array(Z).T "
   ]
  },
  {
   "cell_type": "code",
   "execution_count": 4,
   "metadata": {},
   "outputs": [],
   "source": [
    "def get_shutter(k):\n",
    "        #k is from 0 to 15\n",
    "        return (2**(k))/2048\n",
    "\n",
    "def gsolve(Z, l=500):\n",
    "\n",
    "    B = np.array([np.log(get_shutter(k)) for k in range(16)])\n",
    "    n = 256\n",
    "    im_size = Z.shape[0] \n",
    "    num_im  = Z.shape[1]\n",
    "    # initialize the A, b matrices\n",
    "    A = np.zeros(((im_size*num_im)+n, n+im_size))\n",
    "    b = np.zeros(A.shape[0])\n",
    "    print(im_size, num_im)\n",
    "    # data-fitting equations\n",
    "    k = 0\n",
    "    shutter = np.array([(2**(i))/2048 for i in range(16)])\n",
    "    wij = np.zeros(Z.shape)\n",
    "    \n",
    "    zw = Z/255\n",
    "    idx1, idx2 = np.where((zw >= 0.05) & (zw <= 0.95))\n",
    "    wij[idx1, idx2] = shutter[idx2]\n",
    "    \n",
    "    for i in range(0, im_size):\n",
    "        for j in range(0, num_im):\n",
    "            A[k, Z[i,j]] = wij[i,j]\n",
    "            A[k, n+i] = -wij[i,j]\n",
    "            b[k] = wij[i,j] * B[j]\n",
    "            k += 1\n",
    "    # fix the curve - set middle value to zero\n",
    "    A[k, 128] = 0\n",
    "    k += 1\n",
    "    pix = np.arange(0, n-2)\n",
    "    wts = np.ones_like(pix) #weights(pix)\n",
    "    # add smoothness equations\n",
    "    for i in range(0, n-2):\n",
    "        wt = l*wts[i]\n",
    "        A[k, i] = wt\n",
    "        A[k, i+1] = -2*wt\n",
    "        A[k, i+2] = wt\n",
    "        k += 1\n",
    "    #print(k)\n",
    "    x = np.linalg.lstsq(A, b)[0]\n",
    "    g = x[:n]\n",
    "\n",
    "    return g\n",
    "    "
   ]
  },
  {
   "cell_type": "code",
   "execution_count": 176,
   "metadata": {},
   "outputs": [
    {
     "name": "stdout",
     "output_type": "stream",
     "text": [
      "1800 16\n"
     ]
    },
    {
     "name": "stderr",
     "output_type": "stream",
     "text": [
      "/var/folders/_q/d0ww93zs26b5hx__yj4hc21r0000gn/T/ipykernel_1990/4264668580.py:43: FutureWarning: `rcond` parameter will change to the default of machine precision times ``max(M, N)`` where M and N are the input matrix dimensions.\n",
      "To use the future default and silence this warning we advise to pass `rcond=None`, to keep using the old, explicitly pass `rcond=-1`.\n",
      "  x = np.linalg.lstsq(A, b)[0]\n"
     ]
    },
    {
     "data": {
      "text/plain": [
       "[<matplotlib.lines.Line2D at 0x15438c430>]"
      ]
     },
     "execution_count": 176,
     "metadata": {},
     "output_type": "execute_result"
    },
    {
     "data": {
      "image/png": "[encoded data removed]",
      "text/plain": [
       "<Figure size 640x480 with 1 Axes>"
      ]
     },
     "metadata": {},
     "output_type": "display_data"
    }
   ],
   "source": [
    "#Z = np.array(Z).T \n",
    "g = gsolve(np.array(Z))\n",
    "plt.plot(np.arange(256), g)"
   ]
  },
  {
   "cell_type": "code",
   "execution_count": 121,
   "metadata": {},
   "outputs": [],
   "source": [
    "w_raw = np.zeros(Z_raw.shape)\n",
    "idx1, idx2 = np.where((Z_raw >= 0.05) & (Z_raw <= 0.95))\n",
    "w_raw[idx1, idx2] = get_shutter(idx2)\n"
   ]
  },
  {
   "cell_type": "code",
   "execution_count": 5,
   "metadata": {},
   "outputs": [],
   "source": [
    "def merge(Z, wij):\n",
    "\n",
    "    B = np.array([get_shutter(k) for k in range(16)])\n",
    "    B = B.reshape((16,1,1,1))\n",
    "\n",
    "    B_k = np.tile(B, (1,Z.shape[1], Z.shape[2], Z.shape[3]))\n",
    "    print(B_k.shape, wij.shape, Z.shape)\n",
    "\n",
    "    #B_k = B.repeat((1,Z.shape[1], Z.shape[2], Z.shape[3]))\n",
    "    num = wij*Z\n",
    "    num /= B_k\n",
    "\n",
    "    hdr = np.sum(num, 0)/np.sum(wij,0)\n",
    "\n",
    "    return hdr.reshape(4000,6000,3)"
   ]
  },
  {
   "cell_type": "code",
   "execution_count": 6,
   "metadata": {},
   "outputs": [],
   "source": [
    "Z_ldr = []\n",
    "Z_lin = []\n",
    "g = np.load('g.npy')\n",
    "\n",
    "def apply_g(img, g):\n",
    "    return np.exp(g[img])\n",
    "\n",
    "for im in range(1, 17):\n",
    "    path = os.path.join('data/door_stack', 'exposure{}.jpg'.format(im))\n",
    "    img = io.imread(path)\n",
    "    Z_ldr.append(img)\n",
    "    Z_lin.append(apply_g(img, g))\n",
    "\n",
    "Z_lin = np.array(Z_lin)\n",
    "Z_ldr = np.array(Z_ldr)\n",
    "\n",
    "Z_ldr = Z_ldr.astype(np.float64)\n",
    "Z_ldr /= 255.0\n",
    "Z_lin = Z_lin.astype(np.float64)\n",
    "Z_lin /= 255.0"
   ]
  },
  {
   "cell_type": "code",
   "execution_count": 7,
   "metadata": {},
   "outputs": [
    {
     "name": "stdout",
     "output_type": "stream",
     "text": [
      "(16, 4000, 6000, 3) (16, 4000, 6000, 3) (16, 4000, 6000, 3)\n"
     ]
    },
    {
     "name": "stderr",
     "output_type": "stream",
     "text": [
      "/var/folders/_q/d0ww93zs26b5hx__yj4hc21r0000gn/T/ipykernel_99170/1639741841.py:13: RuntimeWarning: invalid value encountered in divide\n",
      "  hdr = np.sum(num, 0)/np.sum(wij,0)\n"
     ]
    }
   ],
   "source": [
    "from src.cp_hw2 import writeHDR, readHDR\n",
    "wij = np.zeros(Z_ldr.shape, dtype=np.float64)\n",
    "idx1, idx2, idx3, idx4 = np.where((Z_ldr >= 0.05) & (Z_ldr <= 0.95))\n",
    "wij[idx1, idx2, idx3, idx4] = get_shutter(idx1)\n",
    "hdr = merge(Z_lin, wij)\n",
    "writeHDR('door1.HDR', hdr)"
   ]
  },
  {
   "cell_type": "markdown",
   "metadata": {},
   "source": [
    "Color correction of the hdr image"
   ]
  },
  {
   "cell_type": "code",
   "execution_count": 8,
   "metadata": {},
   "outputs": [
    {
     "name": "stdout",
     "output_type": "stream",
     "text": [
      "(4, 6, 4)\n"
     ]
    }
   ],
   "source": [
    "from src.cp_hw2 import read_colorchecker_gm\n",
    "from matplotlib.pyplot import ginput\n",
    "%matplotlib inline\n",
    "\n",
    "hdr_crops = np.array([[[1420, 1500, 3350, 3400],\n",
    "        [1250, 1350, 3350, 3400],\n",
    "        [1100, 1180, 3350, 3400],\n",
    "        [ 950, 1020, 3350, 3400],\n",
    "        [ 780,  850, 3350, 3400],\n",
    "        [ 650,  700, 3350, 3400]],\n",
    "       [[1420, 1500, 3510, 3550],\n",
    "        [1250, 1350, 3510, 3550],\n",
    "        [1100, 1180, 3510, 3550],\n",
    "        [ 950, 1020, 3510, 3550],\n",
    "        [ 780,  850, 3510, 3550],\n",
    "        [ 650,  700, 3510, 3550]],\n",
    "       [[1420, 1500, 3630, 3710],\n",
    "        [1250, 1350, 3630, 3710],\n",
    "        [1100, 1180, 3630, 3710],\n",
    "        [ 950, 1020, 3630, 3710],\n",
    "        [ 780,  850, 3630, 3710],\n",
    "        [ 650,  700, 3630, 3710]],\n",
    "       [[1420, 1500, 3800, 3850],\n",
    "        [1250, 1350, 3800, 3850],\n",
    "        [1100, 1180, 3800, 3850],\n",
    "        [ 950, 1020, 3800, 3850],\n",
    "        [ 780,  850, 3800, 3850],\n",
    "        [ 650,  700, 3800, 3850]]])\n",
    "\n",
    "print(hdr_crops.shape) #4,6,4\n",
    "r, g, b = read_colorchecker_gm()\n",
    "cc_gt = np.dstack((r,g,b))"
   ]
  },
  {
   "cell_type": "code",
   "execution_count": 21,
   "metadata": {},
   "outputs": [
    {
     "name": "stdout",
     "output_type": "stream",
     "text": [
      "1420 1500 3350 3400\n",
      "(80, 50, 3)\n",
      "1250 1350 3350 3400\n",
      "(100, 50, 3)\n",
      "1100 1180 3350 3400\n",
      "(80, 50, 3)\n",
      "950 1020 3350 3400\n",
      "(70, 50, 3)\n",
      "780 850 3350 3400\n",
      "(70, 50, 3)\n",
      "650 700 3350 3400\n",
      "(50, 50, 3)\n",
      "1420 1500 3510 3550\n",
      "(80, 40, 3)\n",
      "1250 1350 3510 3550\n",
      "(100, 40, 3)\n",
      "1100 1180 3510 3550\n",
      "(80, 40, 3)\n",
      "950 1020 3510 3550\n",
      "(70, 40, 3)\n",
      "780 850 3510 3550\n",
      "(70, 40, 3)\n",
      "650 700 3510 3550\n",
      "(50, 40, 3)\n",
      "1420 1500 3630 3710\n",
      "(80, 80, 3)\n",
      "1250 1350 3630 3710\n",
      "(100, 80, 3)\n",
      "1100 1180 3630 3710\n",
      "(80, 80, 3)\n",
      "950 1020 3630 3710\n",
      "(70, 80, 3)\n",
      "780 850 3630 3710\n",
      "(70, 80, 3)\n",
      "650 700 3630 3710\n",
      "(50, 80, 3)\n",
      "1420 1500 3800 3850\n",
      "(80, 50, 3)\n",
      "1250 1350 3800 3850\n",
      "(100, 50, 3)\n",
      "1100 1180 3800 3850\n",
      "(80, 50, 3)\n",
      "950 1020 3800 3850\n",
      "(70, 50, 3)\n",
      "780 850 3800 3850\n",
      "(70, 50, 3)\n",
      "650 700 3800 3850\n",
      "(50, 50, 3)\n"
     ]
    }
   ],
   "source": [
    "#4, 24\n",
    "hdr = readHDR('hdr_jpg_1_3_ge_c.HDR')\n",
    "cc_hdr = np.empty((4, 6, 3))\n",
    "\n",
    "for i in range(hdr_crops.shape[0]):\n",
    "    for j in range(hdr_crops.shape[1]):\n",
    "        y_min, y_max, x_min, x_max = hdr_crops[i, j]\n",
    "        print(y_min, y_max, x_min, x_max)\n",
    "        crop_color = hdr[y_min:y_max,x_min:x_max,:]\n",
    "        print(crop_color.shape)\n",
    "        cc_hdr[i, j] = np.mean(crop_color, axis=(0,1))\n",
    "    "
   ]
  },
  {
   "cell_type": "code",
   "execution_count": 24,
   "metadata": {},
   "outputs": [
    {
     "data": {
      "text/plain": [
       "<matplotlib.image.AxesImage at 0x165d26040>"
      ]
     },
     "execution_count": 24,
     "metadata": {},
     "output_type": "execute_result"
    },
    {
     "data": {
      "image/png": "[encoded data removed]",
      "text/plain": [
       "<Figure size 640x480 with 1 Axes>"
      ]
     },
     "metadata": {},
     "output_type": "display_data"
    }
   ],
   "source": [
    "plt.imshow(cc_hdr*20)"
   ]
  },
  {
   "cell_type": "code",
   "execution_count": 166,
   "metadata": {},
   "outputs": [
    {
     "name": "stderr",
     "output_type": "stream",
     "text": [
      "Clipping input data to the valid range for imshow with RGB data ([0..1] for floats or [0..255] for integers).\n"
     ]
    },
    {
     "data": {
      "text/plain": [
       "<matplotlib.image.AxesImage at 0x15fccf430>"
      ]
     },
     "execution_count": 166,
     "metadata": {},
     "output_type": "execute_result"
    },
    {
     "data": {
      "image/png": "[encoded data removed]",
      "text/plain": [
       "<Figure size 640x480 with 1 Axes>"
      ]
     },
     "metadata": {},
     "output_type": "display_data"
    }
   ],
   "source": [
    "plt.imshow(cc_gt)"
   ]
  },
  {
   "cell_type": "code",
   "execution_count": 25,
   "metadata": {},
   "outputs": [],
   "source": [
    "def color_correction(cc_gt, cc_hdr):\n",
    "    b = np.ones((cc_gt.shape[0], cc_gt.shape[1], 1))\n",
    "    cc_gt = cc_gt.reshape(-1,3)\n",
    "    cc_hdr = np.concatenate([cc_hdr, b], axis = 2).reshape(-1,4)# 4,6,4\n",
    "\n",
    "    A = np.empty((24*3, 12))\n",
    "    b = np.empty((24*3, 1))\n",
    "    for i in range(24):\n",
    "        A[i*3:i*3+3, :] = [[*cc_hdr[i], *np.zeros(4), *np.zeros(4)],\n",
    "                          [*np.zeros(4), *cc_hdr[i], *np.zeros(4)],\n",
    "                          [*np.zeros(4), *np.zeros(4), *cc_hdr[i]]]\n",
    "        \n",
    "        b[i*3:i*3+3, 0] = [*cc_gt[i]]\n",
    "    x = np.linalg.lstsq(A, b)[0]\n",
    "    print(x.shape)\n",
    "    return x"
   ]
  },
  {
   "cell_type": "code",
   "execution_count": 26,
   "metadata": {},
   "outputs": [
    {
     "name": "stdout",
     "output_type": "stream",
     "text": [
      "(12, 1)\n"
     ]
    },
    {
     "name": "stderr",
     "output_type": "stream",
     "text": [
      "/var/folders/_q/d0ww93zs26b5hx__yj4hc21r0000gn/T/ipykernel_95841/2074167378.py:14: FutureWarning: `rcond` parameter will change to the default of machine precision times ``max(M, N)`` where M and N are the input matrix dimensions.\n",
      "To use the future default and silence this warning we advise to pass `rcond=None`, to keep using the old, explicitly pass `rcond=-1`.\n",
      "  x = np.linalg.lstsq(A, b)[0]\n"
     ]
    }
   ],
   "source": [
    "x = color_correction(cc_gt, cc_hdr)\n",
    "x = x.reshape(3,4)"
   ]
  },
  {
   "cell_type": "code",
   "execution_count": 27,
   "metadata": {},
   "outputs": [],
   "source": [
    "hdr_4 = np.concatenate([hdr, np.ones((hdr.shape[0], hdr.shape[1], 1))], axis=2)#.reshape(-1,4)\n",
    "hdr_cc = hdr_4@x.T\n",
    "#hdr_cc = hdr_cc.T.reshape(4000,6000,3)\n",
    "hdr_cc[hdr_cc<0]=0\n",
    "writeHDR('door_cc_san.hdr', hdr_cc)"
   ]
  },
  {
   "cell_type": "code",
   "execution_count": 30,
   "metadata": {},
   "outputs": [],
   "source": [
    "# Reinhard et al. 2002\n",
    "hdr = readHDR('door_cc_san.hdr')\n",
    "def tone_mapping(hdr_c, K=0.15, B=0.95):\n",
    "\n",
    "    h, w = hdr_c.shape[:2]\n",
    "\n",
    "    Im_hdr = np.exp(np.sum(np.log(hdr_c + 1e-8))/(h*w))\n",
    "    Iij_hdr = K/Im_hdr * hdr_c\n",
    "    I_white = B*np.max(Iij_hdr)\n",
    "\n",
    "    I_tm = Iij_hdr*(1+Iij_hdr/I_white**2)/(1+Iij_hdr)\n",
    "    return I_tm\n",
    "\n",
    "hdr = readHDR('door_cc1.hdr')\n",
    "\n",
    "I_tr = tone_mapping(hdr[:,:,0])\n",
    "I_tg = tone_mapping(hdr[:,:,1])\n",
    "I_tb = tone_mapping(hdr[:,:,2])\n",
    "\n",
    "I_tm = np.dstack((I_tr, I_tg, I_tb))\n",
    "writeHDR('door_tm1_san.hdr', I_tm)\n"
   ]
  },
  {
   "cell_type": "code",
   "execution_count": 33,
   "metadata": {},
   "outputs": [],
   "source": [
    "from src.cp_hw2 import lRGB2XYZ, xyY_to_XYZ, XYZ2lRGB\n",
    "hdr = readHDR('door_cc_san.hdr')\n",
    "def XYZ_to_xyY(XYZ):\n",
    "    X = XYZ[:, :, 0]\n",
    "    Y = XYZ[:, :, 1]\n",
    "    Z = XYZ[:, :, 2]\n",
    "    x = X/(X+Y+Z)\n",
    "    y = Y/(X+Y+Z)\n",
    "    xyY = np.dstack((x, y, Y))\n",
    "    return xyY\n",
    "\n",
    "XYZ = lRGB2XYZ(hdr)\n",
    "xyY = XYZ_to_xyY(XYZ)\n",
    "xyY_tm = tone_mapping(xyY[:,:,-1])\n",
    "\n",
    "X, Y, Z  = xyY_to_XYZ(xyY[:,:,0], xyY[:,:,1], xyY_tm)\n",
    "XYZ_tm = np.dstack((X, Y, Z))\n",
    "hdr_tm = XYZ2lRGB(XYZ_tm)\n",
    "writeHDR('door_tm2_san.HDR', I_tm)"
   ]
  }
 ],
 "metadata": {
  "kernelspec": {
   "display_name": "CV",
   "language": "python",
   "name": "python3"
  },
  "language_info": {
   "codemirror_mode": {
    "name": "ipython",
    "version": 3
   },
   "file_extension": ".py",
   "mimetype": "text/x-python",
   "name": "python",
   "nbconvert_exporter": "python",
   "pygments_lexer": "ipython3",
   "version": "3.9.12"
  },
  "orig_nbformat": 4
 },
 "nbformat": 4,
 "nbformat_minor": 2
}
